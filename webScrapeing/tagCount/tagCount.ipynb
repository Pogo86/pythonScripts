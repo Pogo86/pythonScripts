{
 "cells": [
  {
   "cell_type": "markdown",
   "metadata": {},
   "source": [
    "## Imports"
   ]
  },
  {
   "cell_type": "code",
   "execution_count": 16,
   "metadata": {},
   "outputs": [],
   "source": [
    "import pandas as pd\n",
    "from bs4 import BeautifulSoup as BS\n",
    "import requests"
   ]
  },
  {
   "cell_type": "markdown",
   "metadata": {},
   "source": [
    "## Variables"
   ]
  },
  {
   "cell_type": "code",
   "execution_count": 17,
   "metadata": {},
   "outputs": [],
   "source": [
    "webURL = 'https://avenue85.co.uk/'"
   ]
  },
  {
   "cell_type": "markdown",
   "metadata": {},
   "source": [
    "## Web Scrape"
   ]
  },
  {
   "cell_type": "code",
   "execution_count": 18,
   "metadata": {},
   "outputs": [],
   "source": [
    "r = requests.get(webURL)                                   # Creates the get request for the chosen URL\n",
    "soup = BS(r.text, 'html.parser')                        # Creates the soup object"
   ]
  },
  {
   "cell_type": "code",
   "execution_count": 64,
   "metadata": {},
   "outputs": [
    {
     "name": "stdout",
     "output_type": "stream",
     "text": [
      "no src\n",
      "no src\n",
      "no src\n",
      "no src\n",
      "no src\n",
      "no src\n",
      "no src\n",
      "no src\n",
      "no src\n",
      "no src\n",
      "no src\n",
      "no src\n",
      "no src\n",
      "no src\n",
      "no src\n",
      "no src\n",
      "no src\n",
      "no src\n",
      "no src\n",
      "no src\n",
      "no src\n",
      "no src\n",
      "no src\n",
      "no src\n",
      "no src\n",
      "no src\n",
      "no src\n",
      "no src\n",
      "no src\n",
      "no src\n",
      "no src\n",
      "no src\n",
      "no src\n",
      "no src\n",
      "no src\n",
      "no src\n",
      "no src\n",
      "no src\n",
      "no src\n",
      "no src\n",
      "no src\n",
      "no src\n",
      "no src\n",
      "no src\n",
      "no src\n",
      "no src\n",
      "no src\n",
      "no src\n",
      "no src\n",
      "no src\n",
      "no src\n",
      "no src\n",
      "no src\n",
      "no src\n",
      "no src\n",
      "no src\n",
      "no src\n",
      "no src\n",
      "no src\n",
      "no src\n",
      "no src\n",
      "no src\n",
      "no src\n",
      "no src\n",
      "no src\n",
      "no src\n",
      "no src\n",
      "no src\n",
      "no src\n",
      "no src\n",
      "no src\n",
      "no src\n",
      "no src\n",
      "no src\n",
      "no src\n",
      "no src\n",
      "no src\n",
      "no src\n",
      "no src\n",
      "no src\n",
      "no src\n",
      "no src\n",
      "no src\n",
      "no src\n",
      "no src\n",
      "no src\n",
      "no src\n",
      "no src\n",
      "no src\n",
      "no src\n",
      "no src\n",
      "no src\n",
      "no src\n"
     ]
    }
   ],
   "source": [
    "imgs = soup.findAll('img')\n",
    "df=pd.DataFrame()\n",
    "for img in imgs:\n",
    "    if 'src' in img : print(img['src'])\n",
    "    else: print('no src')"
   ]
  },
  {
   "cell_type": "code",
   "execution_count": 72,
   "metadata": {},
   "outputs": [
    {
     "data": {
      "text/plain": [
       "'img'"
      ]
     },
     "execution_count": 72,
     "metadata": {},
     "output_type": "execute_result"
    }
   ],
   "source": [
    "imgs[1].name"
   ]
  },
  {
   "cell_type": "code",
   "execution_count": null,
   "metadata": {},
   "outputs": [],
   "source": []
  }
 ],
 "metadata": {
  "kernelspec": {
   "display_name": "Python 3",
   "language": "python",
   "name": "python3"
  },
  "language_info": {
   "codemirror_mode": {
    "name": "ipython",
    "version": 3
   },
   "file_extension": ".py",
   "mimetype": "text/x-python",
   "name": "python",
   "nbconvert_exporter": "python",
   "pygments_lexer": "ipython3",
   "version": "3.11.6"
  }
 },
 "nbformat": 4,
 "nbformat_minor": 2
}
